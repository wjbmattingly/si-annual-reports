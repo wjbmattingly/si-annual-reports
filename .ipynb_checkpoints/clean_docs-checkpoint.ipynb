{
 "cells": [
  {
   "cell_type": "code",
   "execution_count": 5,
   "id": "75561ebe-c1cc-44c0-bfb0-8e1711479181",
   "metadata": {},
   "outputs": [],
   "source": [
    "import glob\n",
    "import spacy\n",
    "import re"
   ]
  },
  {
   "cell_type": "code",
   "execution_count": 2,
   "id": "262fc5eb-f547-43e7-bcc4-2cb74d394871",
   "metadata": {},
   "outputs": [
    {
     "data": {
      "text/plain": [
       "<spacy.pipeline.sentencizer.Sentencizer at 0x1f64320edc8>"
      ]
     },
     "execution_count": 2,
     "metadata": {},
     "output_type": "execute_result"
    }
   ],
   "source": [
    "nlp = spacy.blank(\"en\")\n",
    "nlp.add_pipe(\"sentencizer\")"
   ]
  },
  {
   "cell_type": "code",
   "execution_count": 3,
   "id": "396f3e6f-61d5-43e9-9f08-2eb624d95a13",
   "metadata": {},
   "outputs": [
    {
     "data": {
      "text/plain": [
       "198"
      ]
     },
     "execution_count": 3,
     "metadata": {},
     "output_type": "execute_result"
    }
   ],
   "source": [
    "files = glob.glob(\"data/annual_reports/*.txt\")\n",
    "len(files)"
   ]
  },
  {
   "cell_type": "code",
   "execution_count": 82,
   "id": "76591dba-d999-40bf-9871-c2684a043160",
   "metadata": {},
   "outputs": [
    {
     "data": {
      "text/plain": [
       "130860"
      ]
     },
     "execution_count": 82,
     "metadata": {},
     "output_type": "execute_result"
    }
   ],
   "source": [
    "all_data = []\n",
    "for file in files:\n",
    "    with open(file, \"r\", encoding=\"utf-8\") as f:\n",
    "        data = f.read()\n",
    "    data = re.sub(\"\\[([^\\)]+)\\]\", \"\", data)\n",
    "    while \"  \" in data:\n",
    "        data = data.replace(\"  \", \" \")\n",
    "    while \"\\n\\n\" in data:\n",
    "        data = data.replace(\"\\n\\n\", \"\\n\")\n",
    "    data = data.replace(\"\\n- \", \"\")\n",
    "    data = data.replace(\"\\n\", \" \")\n",
    "    data = data.replace(\"- \", \"\")\n",
    "    sentences = list(nlp(data).sents)\n",
    "    for i, sent in enumerate(sentences):\n",
    "        if len(sent) > 8:\n",
    "            all_data.append((f\"{file}_{i}\", sent.text, None))\n",
    "len(all_data)"
   ]
  },
  {
   "cell_type": "code",
   "execution_count": 76,
   "id": "701c2479-132c-4271-a8f7-ace3117ce2ce",
   "metadata": {},
   "outputs": [
    {
     "data": {
      "text/plain": [
       "[('data/annual_reports\\\\annualreportofbo1925smit_jp2-final.txt_668',\n",
       "  'Provision is made in the reclassification act for increase in salary to the average amount in the various grades, provided a suitable record of efficiency is maintained.',\n",
       "  None)]"
      ]
     },
     "execution_count": 76,
     "metadata": {},
     "output_type": "execute_result"
    }
   ],
   "source": [
    "all_data[500:501]"
   ]
  },
  {
   "cell_type": "code",
   "execution_count": 23,
   "id": "15692c4f-6260-45c7-bb40-bc8d6678f044",
   "metadata": {},
   "outputs": [],
   "source": [
    "# Get started in a couple lines\n",
    "from txtai.embeddings import Embeddings"
   ]
  },
  {
   "cell_type": "code",
   "execution_count": 83,
   "id": "69cdcd8f-ac46-4849-a53d-8b9c4ac79ef7",
   "metadata": {},
   "outputs": [],
   "source": [
    "embeddings = Embeddings({\"path\": \"sentence-transformers/all-MiniLM-L6-v2\", \"content\": True})"
   ]
  },
  {
   "cell_type": "code",
   "execution_count": 84,
   "id": "45670546-5c0a-4687-8f37-77d1e94aa251",
   "metadata": {},
   "outputs": [],
   "source": [
    "embeddings.index(all_data)"
   ]
  },
  {
   "cell_type": "code",
   "execution_count": 108,
   "id": "2329c1f0-6480-4894-8cc7-8a6c1dcf11ef",
   "metadata": {},
   "outputs": [
    {
     "name": "stdout",
     "output_type": "stream",
     "text": [
      "01: Mrs. Mary Vaux Walcott, for purchase of certain specimens.\n",
      "02: Mrs. Mary Vaux Walcott, for purchase of certain specimens.\n",
      "03: Mrs. Mary Vaux Walcott, for purchase of certain specimens.\n",
      "04: Mrs. Mary Vaux Walcott, for purchase of Indian sand paintings.\n",
      "05: Among several bequests to the Institution announced during the year, the largest was that from Mrs. Mary Vaux Walcott, widow of the late Secretary Charles D. Walcott.\n",
      "06: Mrs. Mary Vaux Walcott, for archeological investigations in Alaska.\n",
      "07: Mrs. Mary Vaux Walcott, for contribution for the purchase of certain speciMens and a collection of pamphlets on anthropology.\n",
      "08: Mary Vaux Walcott, bequest to augment the Charles D. and Mary Vaux Walcott research fund.\n",
      "09: 43 Walcott, Charlesip Sand Mary: Vaux.\n",
      "10: 00 Charles D. and Mary Vaux Walcott fund___________ 955.\n",
      "11: 00 Charles D. and Mary Vaux Walcott fund_______-__ 720.\n",
      "12: 00 Charles D. and Mary Vaux Walcott fund___-__-_-__ 720.\n",
      "13: BEQUESTS Mary Vaux Walcott bequest—Mary Vaux Walcott, widow of the late Charles D. Walcott, former Secretary of the Smithsonian Institution, died August 22, 1940.\n",
      "14: Mrs. C. D. ‘Walcott, 1922.)\n",
      "15: 16 Walcott, Mary Vaux, fund for publications in botany__..._..._..-_____60, 888.\n",
      "16: Mrs. Mary Vaux Walcott, for publication of pitcher-plant volume of North American Wild Flowers.\n",
      "17: Mr. and Mrs. C. D. Walcott, 1922.) (\n",
      "18: Raga ty 2) Sie 10 Walcott, Charles D. and Mary Vaux, fund_____-__ 1, 239.\n",
      "19: 04 Walcott, Charles D. and Mary Vaux, fund-_-_--liege sa!\n",
      "20: Mr. and Mrs. C. D. Walcott, 1922.)\n",
      "21: Mr. and Mrs. C. D. Walcott, 1922.)\n",
      "22: Mr. and Mrs. C. D. Walcott, 1922.)\n",
      "23: 04 Walcott, Charles D. and Mary Vaux_-_.-_------------pens Sey SORES 11, 062.\n",
      "24: 18 Walcott, Mary Vaux, fund, for publications in botany_..-_._._._---.-_-----63, 407.\n",
      "25: 75 Charles D. and Mary Vaux Walcott research fund_________________ 11, 520.\n",
      "26: 09 Charles D. and Mary Vaux Walcott fund, expended_ 639.\n",
      "27: 32 Charles D. and Mary Vaux Walcott fund, expended_ 896.\n",
      "28: 74 Charles D. and Mary Vaux Walcott research fund_-}_..-.--...-.--|-----------$11, 520.\n",
      "29: MARY VAUX WALCOTT FUND FOR PUBLICATIONS IN BOTANY Acting upon a proposal by the Secretary, the executive committee of the Board of Regents during the year authorized the establishment of the Mary Vaux Walcott Fund for Publications in Botany.\n",
      "30: 74 Charles D.and Mary Vaux Walcott research fund__-_|--------------|-----------$11, 520.\n",
      "31: 50 Charles D. and Mary Vaux Walcott research fund_..-_-__________ 11, 520.\n",
      "32: 00 Walcott, Charles D., and Mary Vaux, research fund__--------_--11, 520.\n",
      "33: 50 Charles D. and Mary Vaux Walcott research fund________________ 11, 520.\n",
      "34: 90 Waloott, Oharies D., and Mary Vaux... 20220212.\n",
      "35: Several hundred also came, as usual, from Mrs. Charles D. Walcott.\n",
      "36: 00 Walcott, Charles D. and Mary Vaux, fund for researches, ety SeCOCES.:\n",
      "37: Graus, Mrs. Matilda, Alexandria, Va., Pekin duck.\n",
      "38: During her lifetime Mrs. Walcott manifested her interest by numerous valuable gifts, both in the form of specimens and of money for specific purposes connected with Smithsonian researches.\n",
      "39: Mrs. Charles D. Walcott also gave the library a number of publications.\n",
      "40: 00 Younger, Helen Walcott, fund, held in trust_._._.__.---_.--_-----_-_---_49, 628.\n",
      "41: 00 Walcott, Charles D. and Mary Vaux, fund___---_-.|_.--------_-_1 2EGTb: On| tes e eae 12, 915.\n",
      "42: Secretary of the Institution—CHARLES D. WALCOTT.\n",
      "43: 12 Walcott, Charles D. and Mary Vaux, fund, ex| 95 0G (eT byt seared ly Ay pe ole res nll ru eer cra re 2, 025.\n",
      "44: Charles D. and Mary Vaux Walcott fund, exMTN LEC epee a re a Smo at Re me $111.\n",
      "45: Gift of Miss Mary Taylor through Mrs. Helen T. Steinbarger.\n",
      "46: 75 Younger, Helen Walcott, fund, held in trust_..._..._----------._-.--_---58, 796.\n",
      "47: 84 Walcott, Charles D. and Mary Vaux-______ROMHIS 44 he cee 10, 718.\n",
      "48: \f",
      "REPORT OF THE SECRETARY 15 The noble character of Mrs. Walcott, her great skill and zeal in depicting wild flowers, ker personal researches in glacial geology, her deep interest in the paleontologic researches of Dr. Walcott, and her many gifts, over a long period, to the Smithsonian Institution are highly appreciated.\n",
      "49: 80 Younger, Helen Walcott, fund, held in trust.__._---.-----_-----49, 812.\n",
      "50: 72 Younger, Helen Walcott, fund, held in trust__-..._..._------..---_-___---_-46, 610.\n"
     ]
    }
   ],
   "source": [
    "res = embeddings.search(\"Mrs. Mary Vaux Walcott\", 50)\n",
    "for i, item in enumerate(res):\n",
    "    print(f\"{i+1:02}:\", item[\"text\"])"
   ]
  },
  {
   "cell_type": "code",
   "execution_count": 90,
   "id": "30b65861-6edc-46c9-bf22-8bc044e8c55a",
   "metadata": {},
   "outputs": [],
   "source": [
    "embeddings.save(\"models/annual_reports\")"
   ]
  },
  {
   "cell_type": "code",
   "execution_count": null,
   "id": "c9a87e32-f81b-4d2c-be4a-c654dd14cbb5",
   "metadata": {},
   "outputs": [],
   "source": []
  }
 ],
 "metadata": {
  "kernelspec": {
   "display_name": "Python 3 (ipykernel)",
   "language": "python",
   "name": "python3"
  },
  "language_info": {
   "codemirror_mode": {
    "name": "ipython",
    "version": 3
   },
   "file_extension": ".py",
   "mimetype": "text/x-python",
   "name": "python",
   "nbconvert_exporter": "python",
   "pygments_lexer": "ipython3",
   "version": "3.7.13"
  }
 },
 "nbformat": 4,
 "nbformat_minor": 5
}
