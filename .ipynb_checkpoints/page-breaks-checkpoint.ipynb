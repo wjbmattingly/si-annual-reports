{
 "cells": [
  {
   "cell_type": "code",
   "execution_count": 2,
   "id": "e54b09bf-762b-493f-a491-ba5b38a6eb82",
   "metadata": {},
   "outputs": [],
   "source": [
    "import glob\n",
    "import spacy\n",
    "import re\n",
    "import pandas as pd"
   ]
  },
  {
   "cell_type": "code",
   "execution_count": 16,
   "id": "611f5191-5433-450e-a3e6-fda21c4f706a",
   "metadata": {},
   "outputs": [
    {
     "data": {
      "text/html": [
       "<div>\n",
       "<style scoped>\n",
       "    .dataframe tbody tr th:only-of-type {\n",
       "        vertical-align: middle;\n",
       "    }\n",
       "\n",
       "    .dataframe tbody tr th {\n",
       "        vertical-align: top;\n",
       "    }\n",
       "\n",
       "    .dataframe thead th {\n",
       "        text-align: right;\n",
       "    }\n",
       "</style>\n",
       "<table border=\"1\" class=\"dataframe\">\n",
       "  <thead>\n",
       "    <tr style=\"text-align: right;\">\n",
       "      <th></th>\n",
       "      <th>Archive ID</th>\n",
       "      <th>Title</th>\n",
       "      <th>Volume</th>\n",
       "      <th>Image Count</th>\n",
       "      <th>SI Libraries URL</th>\n",
       "      <th>BHL URL</th>\n",
       "      <th>Internet Archive URL</th>\n",
       "    </tr>\n",
       "  </thead>\n",
       "  <tbody>\n",
       "    <tr>\n",
       "      <th>0</th>\n",
       "      <td>annualreportofbo1862smit</td>\n",
       "      <td>Annual report of the Board of Regents of the S...</td>\n",
       "      <td>1862</td>\n",
       "      <td>464</td>\n",
       "      <td>https://library.si.edu/digital-library/book/an...</td>\n",
       "      <td>http://www.biodiversitylibrary.org/ia/annualre...</td>\n",
       "      <td>https://archive.org/details/annualreportofbo18...</td>\n",
       "    </tr>\n",
       "  </tbody>\n",
       "</table>\n",
       "</div>"
      ],
      "text/plain": [
       "                 Archive ID  \\\n",
       "0  annualreportofbo1862smit   \n",
       "\n",
       "                                               Title Volume  Image Count  \\\n",
       "0  Annual report of the Board of Regents of the S...   1862          464   \n",
       "\n",
       "                                    SI Libraries URL  \\\n",
       "0  https://library.si.edu/digital-library/book/an...   \n",
       "\n",
       "                                             BHL URL  \\\n",
       "0  http://www.biodiversitylibrary.org/ia/annualre...   \n",
       "\n",
       "                                Internet Archive URL  \n",
       "0  https://archive.org/details/annualreportofbo18...  "
      ]
     },
     "execution_count": 16,
     "metadata": {},
     "output_type": "execute_result"
    }
   ],
   "source": [
    "df = pd.read_csv(\"data/filenames.csv\")\n",
    "df.head(1)"
   ]
  },
  {
   "cell_type": "code",
   "execution_count": 4,
   "id": "dc39a20a-4e12-46a4-8b61-ecf1014f6ff2",
   "metadata": {},
   "outputs": [
    {
     "data": {
      "text/plain": [
       "<spacy.pipeline.sentencizer.Sentencizer at 0x1d00b05bb80>"
      ]
     },
     "execution_count": 4,
     "metadata": {},
     "output_type": "execute_result"
    }
   ],
   "source": [
    "nlp = spacy.blank(\"en\")\n",
    "nlp.add_pipe(\"sentencizer\")"
   ]
  },
  {
   "cell_type": "code",
   "execution_count": 5,
   "id": "517a2950-e864-4858-a278-62c61e88be48",
   "metadata": {},
   "outputs": [],
   "source": [
    "archive_ids = df[\"Archive ID\"].tolist()"
   ]
  },
  {
   "cell_type": "code",
   "execution_count": 7,
   "id": "7b5afcbe-7f14-45ba-b75f-055ef992fa81",
   "metadata": {},
   "outputs": [
    {
     "data": {
      "text/plain": [
       "198"
      ]
     },
     "execution_count": 7,
     "metadata": {},
     "output_type": "execute_result"
    }
   ],
   "source": [
    "files = glob.glob(\"data/annual_reports/*.txt\")\n",
    "len(files)"
   ]
  },
  {
   "cell_type": "code",
   "execution_count": 17,
   "id": "266ad303-937e-41f4-ad9a-3e8f55bf38ce",
   "metadata": {},
   "outputs": [
    {
     "data": {
      "text/plain": [
       "161592"
      ]
     },
     "execution_count": 17,
     "metadata": {},
     "output_type": "execute_result"
    }
   ],
   "source": [
    "all_data = []\n",
    "index = []\n",
    "x=0\n",
    "for file in files:\n",
    "    page = 0\n",
    "    archive_id = file.split(\"\\\\\")[-1].replace(\".txt\", \"\").split(\"_\")[0]\n",
    "    year = str(df.loc[df[\"Archive ID\"] == archive_id].Volume.tolist()[0]).split()[0]\n",
    "    title = df.loc[df[\"Archive ID\"] == archive_id].Title.tolist()[0]\n",
    "\n",
    "    with open(file, \"r\", encoding=\"utf-8\") as f:\n",
    "        data = f.read()\n",
    "    data = re.sub(\"\\[([^\\)]+)\\]\", \"\", data)\n",
    "    while \"  \" in data:\n",
    "        data = data.replace(\"  \", \" \")\n",
    "    while \"\\n\\n\\n\" in data:\n",
    "        data = data.replace(\"\\n\\n\\n\", \"\\n\\n\")\n",
    "    # sentences = list(nlp(data).sents)\n",
    "    paras = data.split(\"\\n\\n\")\n",
    "    # for sent in sentences:\n",
    "    #     if len(sent) > 8:\n",
    "    for para in paras:\n",
    "        if \"\\f\" in para:\n",
    "            page = page+1\n",
    "        para = para.replace(\"\\n- \", \"\")\n",
    "        para = para.replace(\"\\n-\", \"\")\n",
    "        para = para.replace(\"\\n\", \" \")\n",
    "        para = para.replace(\"- \", \"\")\n",
    "        if len(para.split()) > 20:\n",
    "            words = 0\n",
    "            for word in para.split():\n",
    "                if any(char.isdigit() for char in word):\n",
    "                    pass\n",
    "                else:\n",
    "                    words = words+1\n",
    "            if words > 20:\n",
    "                all_data.append((x, para, year))\n",
    "        index.append((archive_id, year, para, page))\n",
    "        x=x+1\n",
    "len(all_data)"
   ]
  },
  {
   "cell_type": "code",
   "execution_count": 18,
   "id": "d1cb62b8-675a-4694-b9ce-d629e3e41b38",
   "metadata": {},
   "outputs": [
    {
     "data": {
      "text/plain": [
       "('annualreportfory1951united',\n",
       " '1951',\n",
       " '\\x0cSc. ON cla ph NE gia Senay ic li age ein ip i ia lnc i Te \\x0c\\x0cThe United States',\n",
       " 1)"
      ]
     },
     "execution_count": 18,
     "metadata": {},
     "output_type": "execute_result"
    }
   ],
   "source": [
    "index[0]"
   ]
  },
  {
   "cell_type": "code",
   "execution_count": 19,
   "id": "90bde3b8-a453-4f1b-a0a7-a033897190df",
   "metadata": {},
   "outputs": [],
   "source": [
    "index_df = pd.DataFrame(index, columns=[\"text_file\", \"year\", \"paragraph\", \"page_num\"])"
   ]
  },
  {
   "cell_type": "code",
   "execution_count": 20,
   "id": "0d9d6ef5-99c0-4c8a-aeec-4bc74cf0d258",
   "metadata": {},
   "outputs": [
    {
     "data": {
      "text/html": [
       "<div>\n",
       "<style scoped>\n",
       "    .dataframe tbody tr th:only-of-type {\n",
       "        vertical-align: middle;\n",
       "    }\n",
       "\n",
       "    .dataframe tbody tr th {\n",
       "        vertical-align: top;\n",
       "    }\n",
       "\n",
       "    .dataframe thead th {\n",
       "        text-align: right;\n",
       "    }\n",
       "</style>\n",
       "<table border=\"1\" class=\"dataframe\">\n",
       "  <thead>\n",
       "    <tr style=\"text-align: right;\">\n",
       "      <th></th>\n",
       "      <th>text_file</th>\n",
       "      <th>year</th>\n",
       "      <th>paragraph</th>\n",
       "      <th>page_num</th>\n",
       "    </tr>\n",
       "  </thead>\n",
       "  <tbody>\n",
       "    <tr>\n",
       "      <th>0</th>\n",
       "      <td>annualreportfory1951united</td>\n",
       "      <td>1951</td>\n",
       "      <td>Sc. ON cla ph NE gia Senay ic li age ein ip i...</td>\n",
       "      <td>1</td>\n",
       "    </tr>\n",
       "    <tr>\n",
       "      <th>1</th>\n",
       "      <td>annualreportfory1951united</td>\n",
       "      <td>1951</td>\n",
       "      <td>National Museum</td>\n",
       "      <td>1</td>\n",
       "    </tr>\n",
       "    <tr>\n",
       "      <th>2</th>\n",
       "      <td>annualreportfory1951united</td>\n",
       "      <td>1951</td>\n",
       "      <td>Annual Report for the Year Ended June 30, 1951</td>\n",
       "      <td>1</td>\n",
       "    </tr>\n",
       "    <tr>\n",
       "      <th>3</th>\n",
       "      <td>annualreportfory1951united</td>\n",
       "      <td>1951</td>\n",
       "      <td>SMITHSONIAN INSTITUTION \f",
       "Untrep States Nationa...</td>\n",
       "      <td>2</td>\n",
       "    </tr>\n",
       "    <tr>\n",
       "      <th>4</th>\n",
       "      <td>annualreportfory1951united</td>\n",
       "      <td>1951</td>\n",
       "      <td>Sir: I have the honor to submit herewith a rep...</td>\n",
       "      <td>2</td>\n",
       "    </tr>\n",
       "    <tr>\n",
       "      <th>...</th>\n",
       "      <td>...</td>\n",
       "      <td>...</td>\n",
       "      <td>...</td>\n",
       "      <td>...</td>\n",
       "    </tr>\n",
       "    <tr>\n",
       "      <th>438714</th>\n",
       "      <td>statementbysecre1984smit</td>\n",
       "      <td>1984</td>\n",
       "      <td>It is the opinion of the Institution that it i...</td>\n",
       "      <td>54</td>\n",
       "    </tr>\n",
       "    <tr>\n",
       "      <th>438715</th>\n",
       "      <td>statementbysecre1984smit</td>\n",
       "      <td>1984</td>\n",
       "      <td>aT ts = ae. UF! ey) Ll eat \f",
       "\f",
       "\f",
       "\f",
       "\f",
       "\f",
       "Ua A</td>\n",
       "      <td>55</td>\n",
       "    </tr>\n",
       "    <tr>\n",
       "      <th>438716</th>\n",
       "      <td>statementbysecre1984smit</td>\n",
       "      <td>1984</td>\n",
       "      <td>‘</td>\n",
       "      <td>55</td>\n",
       "    </tr>\n",
       "    <tr>\n",
       "      <th>438717</th>\n",
       "      <td>statementbysecre1984smit</td>\n",
       "      <td>1984</td>\n",
       "      <td>wv</td>\n",
       "      <td>55</td>\n",
       "    </tr>\n",
       "    <tr>\n",
       "      <th>438718</th>\n",
       "      <td>statementbysecre1984smit</td>\n",
       "      <td>1984</td>\n",
       "      <td></td>\n",
       "      <td>55</td>\n",
       "    </tr>\n",
       "  </tbody>\n",
       "</table>\n",
       "<p>438719 rows × 4 columns</p>\n",
       "</div>"
      ],
      "text/plain": [
       "                         text_file  year  \\\n",
       "0       annualreportfory1951united  1951   \n",
       "1       annualreportfory1951united  1951   \n",
       "2       annualreportfory1951united  1951   \n",
       "3       annualreportfory1951united  1951   \n",
       "4       annualreportfory1951united  1951   \n",
       "...                            ...   ...   \n",
       "438714    statementbysecre1984smit  1984   \n",
       "438715    statementbysecre1984smit  1984   \n",
       "438716    statementbysecre1984smit  1984   \n",
       "438717    statementbysecre1984smit  1984   \n",
       "438718    statementbysecre1984smit  1984   \n",
       "\n",
       "                                                paragraph  page_num  \n",
       "0       \n",
       "Sc. ON cla ph NE gia Senay ic li age ein ip i...         1  \n",
       "1                                         National Museum         1  \n",
       "2          Annual Report for the Year Ended June 30, 1951         1  \n",
       "3       SMITHSONIAN INSTITUTION \n",
       "Untrep States Nationa...         2  \n",
       "4       Sir: I have the honor to submit herewith a rep...         2  \n",
       "...                                                   ...       ...  \n",
       "438714  It is the opinion of the Institution that it i...        54  \n",
       "438715             \n",
       "aT ts = ae. UF! ey) Ll eat \n",
       "\n",
       "\n",
       "\n",
       "\n",
       "\n",
       "Ua A        55  \n",
       "438716                                                  ‘        55  \n",
       "438717                                                 wv        55  \n",
       "438718                                                           55  \n",
       "\n",
       "[438719 rows x 4 columns]"
      ]
     },
     "execution_count": 20,
     "metadata": {},
     "output_type": "execute_result"
    }
   ],
   "source": [
    "index_df"
   ]
  },
  {
   "cell_type": "code",
   "execution_count": 21,
   "id": "ef18e430-d89a-4396-bb6b-cd9613b602d7",
   "metadata": {},
   "outputs": [],
   "source": [
    "index_df.to_csv(\"data/annual_reports_paras_full.csv\", index=False)"
   ]
  },
  {
   "cell_type": "code",
   "execution_count": null,
   "id": "1031f410-3381-4acd-b139-fe85949bea43",
   "metadata": {},
   "outputs": [],
   "source": []
  }
 ],
 "metadata": {
  "kernelspec": {
   "display_name": "Python 3 (ipykernel)",
   "language": "python",
   "name": "python3"
  },
  "language_info": {
   "codemirror_mode": {
    "name": "ipython",
    "version": 3
   },
   "file_extension": ".py",
   "mimetype": "text/x-python",
   "name": "python",
   "nbconvert_exporter": "python",
   "pygments_lexer": "ipython3",
   "version": "3.7.13"
  }
 },
 "nbformat": 4,
 "nbformat_minor": 5
}
