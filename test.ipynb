{
 "cells": [
  {
   "cell_type": "code",
   "execution_count": 1,
   "id": "2ba546e0-5dba-491c-a6fd-e88e568ac49e",
   "metadata": {},
   "outputs": [],
   "source": [
    "from txtai.embeddings import Embeddings"
   ]
  },
  {
   "cell_type": "code",
   "execution_count": null,
   "id": "0c97b378-99e7-4ccc-9cf1-2e8be8cd86fd",
   "metadata": {},
   "outputs": [],
   "source": [
    "\n",
    "data = [\"US tops 5 million confirmed virus cases\",\n",
    "        \"Canada's last fully intact ice shelf has suddenly collapsed, forming a Manhattan-sized iceberg\",\n",
    "        \"Beijing mobilises invasion craft along coast as Taiwan tensions escalate\",\n",
    "        \"The National Park Service warns against sacrificing slower friends in a bear attack\",\n",
    "        \"Maine man wins $1M from $25 lottery ticket\",\n",
    "        \"Make huge profits without work, earn up to $100,000 a day\"]\n",
    "\n",
    "# Create embeddings index with content enabled. The default behavior is to only store indexed vectors.\n",
    "embeddings = Embeddings({\"path\": \"sentence-transformers/nli-mpnet-base-v2\", \"content\": True, \"objects\": True})\n",
    "\n",
    "# Create an index for the list of text\n",
    "embeddings.index([(uid, text, None) for uid, text in enumerate(data)])\n",
    "\n",
    "print(\"%-20s %s\" % (\"Query\", \"Best Match\"))\n",
    "print(\"-\" * 50)\n",
    "\n",
    "# Run an embeddings search for each query\n",
    "for query in (\"feel good story\", \"climate change\", \"public health story\", \"war\", \"wildlife\", \"asia\", \"lucky\", \"dishonest junk\"):\n",
    "    # Extract text field from result\n",
    "    text = embeddings.search(query, 1)[0][\"text\"]\n",
    "\n",
    "    # Print text\n",
    "    print(\"%-20s %s\" % (query, text))"
   ]
  },
  {
   "cell_type": "code",
   "execution_count": null,
   "id": "1315b04b-2ee1-4acf-8285-31be9368926c",
   "metadata": {},
   "outputs": [],
   "source": []
  }
 ],
 "metadata": {
  "kernelspec": {
   "display_name": "Python 3 (ipykernel)",
   "language": "python",
   "name": "python3"
  },
  "language_info": {
   "codemirror_mode": {
    "name": "ipython",
    "version": 3
   },
   "file_extension": ".py",
   "mimetype": "text/x-python",
   "name": "python",
   "nbconvert_exporter": "python",
   "pygments_lexer": "ipython3",
   "version": "3.7.13"
  }
 },
 "nbformat": 4,
 "nbformat_minor": 5
}
