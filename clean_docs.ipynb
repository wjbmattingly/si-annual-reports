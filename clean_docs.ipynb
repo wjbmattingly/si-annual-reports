{
 "cells": [
  {
   "cell_type": "code",
   "execution_count": 1,
   "id": "75561ebe-c1cc-44c0-bfb0-8e1711479181",
   "metadata": {},
   "outputs": [],
   "source": [
    "import glob\n",
    "import spacy\n",
    "import re\n",
    "import pandas as pd"
   ]
  },
  {
   "cell_type": "code",
   "execution_count": 2,
   "id": "c80ad945-1bc6-4257-b206-ee86e24d29e8",
   "metadata": {},
   "outputs": [
    {
     "data": {
      "text/html": [
       "<div>\n",
       "<style scoped>\n",
       "    .dataframe tbody tr th:only-of-type {\n",
       "        vertical-align: middle;\n",
       "    }\n",
       "\n",
       "    .dataframe tbody tr th {\n",
       "        vertical-align: top;\n",
       "    }\n",
       "\n",
       "    .dataframe thead th {\n",
       "        text-align: right;\n",
       "    }\n",
       "</style>\n",
       "<table border=\"1\" class=\"dataframe\">\n",
       "  <thead>\n",
       "    <tr style=\"text-align: right;\">\n",
       "      <th></th>\n",
       "      <th>Archive ID</th>\n",
       "      <th>Title</th>\n",
       "      <th>Volume</th>\n",
       "      <th>Image Count</th>\n",
       "      <th>SI Libraries URL</th>\n",
       "      <th>BHL URL</th>\n",
       "      <th>Internet Archive URL</th>\n",
       "    </tr>\n",
       "  </thead>\n",
       "  <tbody>\n",
       "    <tr>\n",
       "      <th>0</th>\n",
       "      <td>annualreportofbo1862smit</td>\n",
       "      <td>Annual report of the Board of Regents of the S...</td>\n",
       "      <td>1862</td>\n",
       "      <td>464</td>\n",
       "      <td>https://library.si.edu/digital-library/book/an...</td>\n",
       "      <td>http://www.biodiversitylibrary.org/ia/annualre...</td>\n",
       "      <td>https://archive.org/details/annualreportofbo18...</td>\n",
       "    </tr>\n",
       "    <tr>\n",
       "      <th>1</th>\n",
       "      <td>annualreportofbo1908smitfo</td>\n",
       "      <td>Annual report of the Board of Regents of the S...</td>\n",
       "      <td>1908</td>\n",
       "      <td>972</td>\n",
       "      <td>https://library.si.edu/digital-library/book/an...</td>\n",
       "      <td>http://www.biodiversitylibrary.org/ia/annualre...</td>\n",
       "      <td>https://archive.org/details/annualreportofbo19...</td>\n",
       "    </tr>\n",
       "    <tr>\n",
       "      <th>2</th>\n",
       "      <td>smithsonianyear1974smit</td>\n",
       "      <td>Smithsonian year</td>\n",
       "      <td>1974</td>\n",
       "      <td>526</td>\n",
       "      <td>https://library.si.edu/digital-library/book/sm...</td>\n",
       "      <td>http://www.biodiversitylibrary.org/ia/smithson...</td>\n",
       "      <td>https://archive.org/details/smithsonianyear197...</td>\n",
       "    </tr>\n",
       "    <tr>\n",
       "      <th>3</th>\n",
       "      <td>annualreportofbo1956smit</td>\n",
       "      <td>Annual report of the Board of Regents of the S...</td>\n",
       "      <td>1956</td>\n",
       "      <td>710</td>\n",
       "      <td>https://library.si.edu/digital-library/book/an...</td>\n",
       "      <td>http://www.biodiversitylibrary.org/ia/annualre...</td>\n",
       "      <td>https://archive.org/details/annualreportofbo19...</td>\n",
       "    </tr>\n",
       "    <tr>\n",
       "      <th>4</th>\n",
       "      <td>annualreportofbo1918smit</td>\n",
       "      <td>Annual report of the Board of Regents of the S...</td>\n",
       "      <td>1918</td>\n",
       "      <td>724</td>\n",
       "      <td>https://library.si.edu/digital-library/book/an...</td>\n",
       "      <td>http://www.biodiversitylibrary.org/ia/annualre...</td>\n",
       "      <td>https://archive.org/details/annualreportofbo19...</td>\n",
       "    </tr>\n",
       "    <tr>\n",
       "      <th>...</th>\n",
       "      <td>...</td>\n",
       "      <td>...</td>\n",
       "      <td>...</td>\n",
       "      <td>...</td>\n",
       "      <td>...</td>\n",
       "      <td>...</td>\n",
       "      <td>...</td>\n",
       "    </tr>\n",
       "    <tr>\n",
       "      <th>193</th>\n",
       "      <td>annualreportofbo1943smit</td>\n",
       "      <td>Annual report of the Board of Regents of the S...</td>\n",
       "      <td>1943</td>\n",
       "      <td>792</td>\n",
       "      <td>https://library.si.edu/digital-library/book/an...</td>\n",
       "      <td>http://www.biodiversitylibrary.org/ia/annualre...</td>\n",
       "      <td>https://archive.org/details/annualreportofbo19...</td>\n",
       "    </tr>\n",
       "    <tr>\n",
       "      <th>194</th>\n",
       "      <td>annualreportofbo1877smit</td>\n",
       "      <td>Annual report of the Board of Regents of the S...</td>\n",
       "      <td>1877</td>\n",
       "      <td>516</td>\n",
       "      <td>https://library.si.edu/digital-library/book/an...</td>\n",
       "      <td>http://www.biodiversitylibrary.org/ia/annualre...</td>\n",
       "      <td>https://archive.org/details/annualreportofbo18...</td>\n",
       "    </tr>\n",
       "    <tr>\n",
       "      <th>195</th>\n",
       "      <td>annualreportofbo1876smith</td>\n",
       "      <td>Annual report of the Board of Regents of the S...</td>\n",
       "      <td>1876</td>\n",
       "      <td>544</td>\n",
       "      <td>https://library.si.edu/digital-library/book/an...</td>\n",
       "      <td>http://www.biodiversitylibrary.org/ia/annualre...</td>\n",
       "      <td>https://archive.org/details/annualreportofbo18...</td>\n",
       "    </tr>\n",
       "    <tr>\n",
       "      <th>196</th>\n",
       "      <td>annualreportfory1951united</td>\n",
       "      <td>Annual report for the year ended June 30 ...</td>\n",
       "      <td>1951</td>\n",
       "      <td>134</td>\n",
       "      <td>https://library.si.edu/digital-library/book/an...</td>\n",
       "      <td>http://www.biodiversitylibrary.org/ia/annualre...</td>\n",
       "      <td>https://archive.org/details/annualreportfory19...</td>\n",
       "    </tr>\n",
       "    <tr>\n",
       "      <th>197</th>\n",
       "      <td>annualreportofbo1925smit</td>\n",
       "      <td>Annual report of the Board of Regents of the S...</td>\n",
       "      <td>1925</td>\n",
       "      <td>756</td>\n",
       "      <td>https://library.si.edu/digital-library/book/an...</td>\n",
       "      <td>http://www.biodiversitylibrary.org/ia/annualre...</td>\n",
       "      <td>https://archive.org/details/annualreportofbo19...</td>\n",
       "    </tr>\n",
       "  </tbody>\n",
       "</table>\n",
       "<p>198 rows × 7 columns</p>\n",
       "</div>"
      ],
      "text/plain": [
       "                     Archive ID  \\\n",
       "0      annualreportofbo1862smit   \n",
       "1    annualreportofbo1908smitfo   \n",
       "2       smithsonianyear1974smit   \n",
       "3      annualreportofbo1956smit   \n",
       "4      annualreportofbo1918smit   \n",
       "..                          ...   \n",
       "193    annualreportofbo1943smit   \n",
       "194    annualreportofbo1877smit   \n",
       "195   annualreportofbo1876smith   \n",
       "196  annualreportfory1951united   \n",
       "197    annualreportofbo1925smit   \n",
       "\n",
       "                                                 Title Volume  Image Count  \\\n",
       "0    Annual report of the Board of Regents of the S...   1862          464   \n",
       "1    Annual report of the Board of Regents of the S...   1908          972   \n",
       "2                                     Smithsonian year   1974          526   \n",
       "3    Annual report of the Board of Regents of the S...   1956          710   \n",
       "4    Annual report of the Board of Regents of the S...   1918          724   \n",
       "..                                                 ...    ...          ...   \n",
       "193  Annual report of the Board of Regents of the S...   1943          792   \n",
       "194  Annual report of the Board of Regents of the S...   1877          516   \n",
       "195  Annual report of the Board of Regents of the S...   1876          544   \n",
       "196       Annual report for the year ended June 30 ...   1951          134   \n",
       "197  Annual report of the Board of Regents of the S...   1925          756   \n",
       "\n",
       "                                      SI Libraries URL  \\\n",
       "0    https://library.si.edu/digital-library/book/an...   \n",
       "1    https://library.si.edu/digital-library/book/an...   \n",
       "2    https://library.si.edu/digital-library/book/sm...   \n",
       "3    https://library.si.edu/digital-library/book/an...   \n",
       "4    https://library.si.edu/digital-library/book/an...   \n",
       "..                                                 ...   \n",
       "193  https://library.si.edu/digital-library/book/an...   \n",
       "194  https://library.si.edu/digital-library/book/an...   \n",
       "195  https://library.si.edu/digital-library/book/an...   \n",
       "196  https://library.si.edu/digital-library/book/an...   \n",
       "197  https://library.si.edu/digital-library/book/an...   \n",
       "\n",
       "                                               BHL URL  \\\n",
       "0    http://www.biodiversitylibrary.org/ia/annualre...   \n",
       "1    http://www.biodiversitylibrary.org/ia/annualre...   \n",
       "2    http://www.biodiversitylibrary.org/ia/smithson...   \n",
       "3    http://www.biodiversitylibrary.org/ia/annualre...   \n",
       "4    http://www.biodiversitylibrary.org/ia/annualre...   \n",
       "..                                                 ...   \n",
       "193  http://www.biodiversitylibrary.org/ia/annualre...   \n",
       "194  http://www.biodiversitylibrary.org/ia/annualre...   \n",
       "195  http://www.biodiversitylibrary.org/ia/annualre...   \n",
       "196  http://www.biodiversitylibrary.org/ia/annualre...   \n",
       "197  http://www.biodiversitylibrary.org/ia/annualre...   \n",
       "\n",
       "                                  Internet Archive URL  \n",
       "0    https://archive.org/details/annualreportofbo18...  \n",
       "1    https://archive.org/details/annualreportofbo19...  \n",
       "2    https://archive.org/details/smithsonianyear197...  \n",
       "3    https://archive.org/details/annualreportofbo19...  \n",
       "4    https://archive.org/details/annualreportofbo19...  \n",
       "..                                                 ...  \n",
       "193  https://archive.org/details/annualreportofbo19...  \n",
       "194  https://archive.org/details/annualreportofbo18...  \n",
       "195  https://archive.org/details/annualreportofbo18...  \n",
       "196  https://archive.org/details/annualreportfory19...  \n",
       "197  https://archive.org/details/annualreportofbo19...  \n",
       "\n",
       "[198 rows x 7 columns]"
      ]
     },
     "execution_count": 2,
     "metadata": {},
     "output_type": "execute_result"
    }
   ],
   "source": [
    "df = pd.read_csv(\"data/filenames.csv\")\n",
    "df"
   ]
  },
  {
   "cell_type": "code",
   "execution_count": 4,
   "id": "262fc5eb-f547-43e7-bcc4-2cb74d394871",
   "metadata": {},
   "outputs": [
    {
     "data": {
      "text/plain": [
       "<spacy.pipeline.sentencizer.Sentencizer at 0x2f0dddf6b08>"
      ]
     },
     "execution_count": 4,
     "metadata": {},
     "output_type": "execute_result"
    }
   ],
   "source": [
    "nlp = spacy.blank(\"en\")\n",
    "nlp.add_pipe(\"sentencizer\")"
   ]
  },
  {
   "cell_type": "code",
   "execution_count": 5,
   "id": "396f3e6f-61d5-43e9-9f08-2eb624d95a13",
   "metadata": {},
   "outputs": [
    {
     "data": {
      "text/plain": [
       "198"
      ]
     },
     "execution_count": 5,
     "metadata": {},
     "output_type": "execute_result"
    }
   ],
   "source": [
    "files = glob.glob(\"data/annual_reports/*.txt\")\n",
    "len(files)"
   ]
  },
  {
   "cell_type": "code",
   "execution_count": 6,
   "id": "28628c7e-1eb6-4eeb-b200-847d904fc243",
   "metadata": {},
   "outputs": [],
   "source": [
    "archive_ids = df[\"Archive ID\"].tolist()"
   ]
  },
  {
   "cell_type": "code",
   "execution_count": 50,
   "id": "76591dba-d999-40bf-9871-c2684a043160",
   "metadata": {},
   "outputs": [
    {
     "data": {
      "text/plain": [
       "161592"
      ]
     },
     "execution_count": 50,
     "metadata": {},
     "output_type": "execute_result"
    }
   ],
   "source": [
    "all_data = []\n",
    "index = []\n",
    "x=0\n",
    "for file in files:\n",
    "    archive_id = file.split(\"\\\\\")[-1].replace(\".txt\", \"\").split(\"_\")[0]\n",
    "    year = str(df.loc[df[\"Archive ID\"] == archive_id].Volume.tolist()[0]).split()[0]\n",
    "    title = df.loc[df[\"Archive ID\"] == archive_id].Title.tolist()[0]\n",
    "\n",
    "    with open(file, \"r\", encoding=\"utf-8\") as f:\n",
    "        data = f.read()\n",
    "    data = re.sub(\"\\[([^\\)]+)\\]\", \"\", data)\n",
    "    while \"  \" in data:\n",
    "        data = data.replace(\"  \", \" \")\n",
    "    while \"\\n\\n\\n\" in data:\n",
    "        data = data.replace(\"\\n\\n\\n\", \"\\n\\n\")\n",
    "    # sentences = list(nlp(data).sents)\n",
    "    paras = data.split(\"\\n\\n\")\n",
    "    # for sent in sentences:\n",
    "    #     if len(sent) > 8:\n",
    "    for para in paras:\n",
    "        para = para.replace(\"\\n- \", \"\")\n",
    "        para = para.replace(\"\\n-\", \"\")\n",
    "        para = para.replace(\"\\n\", \" \")\n",
    "        para = para.replace(\"- \", \"\")\n",
    "        if len(para.split()) > 20:\n",
    "            words = 0\n",
    "            for word in para.split():\n",
    "                if any(char.isdigit() for char in word):\n",
    "                    pass\n",
    "                else:\n",
    "                    words = words+1\n",
    "            if words > 20:\n",
    "                all_data.append((x, para, year))\n",
    "        index.append((archive_id, year, para))\n",
    "        x=x+1\n",
    "len(all_data)"
   ]
  },
  {
   "cell_type": "code",
   "execution_count": 54,
   "id": "1e16afbf-23af-432b-bd9f-a0aa50112391",
   "metadata": {},
   "outputs": [
    {
     "name": "stdout",
     "output_type": "stream",
     "text": [
      "[(26039, 'The U.S. Mint was founded in 1791, and the national numismatic collection was started soon after, at Philadelphia, site of the first mint.', '1961')]\n"
     ]
    }
   ],
   "source": [
    "print(all_data[6000:6001])"
   ]
  },
  {
   "cell_type": "code",
   "execution_count": 31,
   "id": "e81d6c16-1f3e-4884-80ba-fae603184771",
   "metadata": {},
   "outputs": [
    {
     "data": {
      "text/plain": [
       "('annualreportfory1951united',\n",
       " '1951',\n",
       " 'In the biological sciences research provides the data essential to a further study of the relationships of the various forms of life to each other and to their environment, their evolutionary trends, their fundamental properties, and their economic significance.')"
      ]
     },
     "execution_count": 31,
     "metadata": {},
     "output_type": "execute_result"
    }
   ],
   "source": [
    "index[40]"
   ]
  },
  {
   "cell_type": "code",
   "execution_count": 32,
   "id": "15692c4f-6260-45c7-bb40-bc8d6678f044",
   "metadata": {},
   "outputs": [],
   "source": [
    "# Get started in a couple lines\n",
    "from txtai.embeddings import Embeddings"
   ]
  },
  {
   "cell_type": "code",
   "execution_count": 55,
   "id": "69cdcd8f-ac46-4849-a53d-8b9c4ac79ef7",
   "metadata": {},
   "outputs": [],
   "source": [
    "embeddings = Embeddings({\"path\": \"sentence-transformers/all-MiniLM-L6-v2\", \"content\": True})"
   ]
  },
  {
   "cell_type": "code",
   "execution_count": null,
   "id": "45670546-5c0a-4687-8f37-77d1e94aa251",
   "metadata": {},
   "outputs": [],
   "source": [
    "embeddings.index(all_data)"
   ]
  },
  {
   "cell_type": "code",
   "execution_count": null,
   "id": "2329c1f0-6480-4894-8cc7-8a6c1dcf11ef",
   "metadata": {},
   "outputs": [],
   "source": [
    "res = embeddings.search(\"woman in science\", 1)\n",
    "for i, item in enumerate(res):\n",
    "    print(item[\"id\"])\n",
    "    print(f\"{i+1:02}:\", item[\"text\"])\n",
    "    print()\n",
    "    print(index[int(item[\"id\"])])\n",
    "    # print(f\"Context: \", index[int(item[\"id\"])-1:int(item[\"id\"])+2])"
   ]
  },
  {
   "cell_type": "code",
   "execution_count": null,
   "id": "30b65861-6edc-46c9-bf22-8bc044e8c55a",
   "metadata": {},
   "outputs": [],
   "source": [
    "embeddings.save(\"models/annual_reports_paras\")"
   ]
  },
  {
   "cell_type": "code",
   "execution_count": null,
   "id": "c9a87e32-f81b-4d2c-be4a-c654dd14cbb5",
   "metadata": {},
   "outputs": [],
   "source": []
  }
 ],
 "metadata": {
  "kernelspec": {
   "display_name": "Python 3 (ipykernel)",
   "language": "python",
   "name": "python3"
  },
  "language_info": {
   "codemirror_mode": {
    "name": "ipython",
    "version": 3
   },
   "file_extension": ".py",
   "mimetype": "text/x-python",
   "name": "python",
   "nbconvert_exporter": "python",
   "pygments_lexer": "ipython3",
   "version": "3.7.13"
  }
 },
 "nbformat": 4,
 "nbformat_minor": 5
}
